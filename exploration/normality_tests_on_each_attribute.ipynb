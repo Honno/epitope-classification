{
 "cells": [
  {
   "cell_type": "code",
   "execution_count": 1,
   "metadata": {},
   "outputs": [],
   "source": [
    "import csv\n",
    "import re\n",
    "from itertools import takewhile\n",
    "\n",
    "def parse_arff(arff):\n",
    "    \"\"\"Parses arff file\"\"\"\n",
    "    r_datatag = re.compile('^@data', flags=re.IGNORECASE)\n",
    "    header = list(takewhile(lambda line: not r_datatag.match(line), arff))\n",
    "    \n",
    "    r_attrname = re.compile('^@attribute\\s([\\w.]+)\\s.*', flags=re.IGNORECASE)\n",
    "    attrnames = []\n",
    "    for line in header:\n",
    "        try:\n",
    "            name = r_attrname.match(line).group(1)\n",
    "        except AttributeError:\n",
    "            continue\n",
    "        name = name.replace('.', '_') # dots make fieldnames invalid\n",
    "        attrnames.append(name)\n",
    "        \n",
    "    data = csv.reader(arff)\n",
    "\n",
    "    return attrnames, data"
   ]
  },
  {
   "cell_type": "code",
   "execution_count": 2,
   "metadata": {},
   "outputs": [],
   "source": [
    "import numpy as np\n",
    "import pandas as pd\n",
    "\n",
    "with open(\"CWData_train.arff\") as arff:\n",
    "    attrnames, data = parse_arff(arff)\n",
    "    \n",
    "    properties = (row[1:-1] for row in data)\n",
    "    \n",
    "    df = pd.DataFrame(properties, columns=attrnames[1:-1])\n",
    "    df = df.replace('?', np.nan)\n",
    "    df = df.astype(np.float)"
   ]
  },
  {
   "cell_type": "code",
   "execution_count": 54,
   "metadata": {
    "scrolled": true
   },
   "outputs": [],
   "source": [
    "from collections import namedtuple\n",
    "from scipy.stats import shapiro, normaltest\n",
    "from sklearn.preprocessing import minmax_scale\n",
    "\n",
    "shapiro_results = pd.DataFrame(columns=['statistic', 'p_value'], dtype=np.float)\n",
    "dagostino_results = pd.DataFrame(columns=['statistic', 'p_value'], dtype=np.float)\n",
    "\n",
    "for column in df:\n",
    "    present = df[[column]].dropna()\n",
    "    sample = present.sample(n=100)\n",
    "    standardised = minmax_scale(sample)\n",
    "\n",
    "    s_statistic, s_p = shapiro(standardised)\n",
    "    shapiro_results.loc[column] = [s_statistic, s_p]\n",
    "    \n",
    "    d_statistic, d_p = normaltest(standardised)\n",
    "    dagostino_results.loc[column] = [d_statistic[0], d_p[0]]"
   ]
  },
  {
   "cell_type": "code",
   "execution_count": 55,
   "metadata": {},
   "outputs": [
    {
     "name": "stdout",
     "output_type": "stream",
     "text": [
      "statistic    0.995643\n",
      "p_value      0.988342\n",
      "Name: Z4_1, dtype: float64\n",
      "statistic    0.899592\n",
      "p_value      0.000001\n",
      "Name: F5_1, dtype: float64\n"
     ]
    }
   ],
   "source": [
    "print(shapiro_results.loc[shapiro_results['p_value'].idxmax()])\n",
    "print(shapiro_results.loc[shapiro_results['p_value'].idxmin()])"
   ]
  },
  {
   "cell_type": "code",
   "execution_count": 56,
   "metadata": {},
   "outputs": [
    {
     "name": "stdout",
     "output_type": "stream",
     "text": [
      "statistic    0.012783\n",
      "p_value      0.993629\n",
      "Name: Z5_1, dtype: float64\n",
      "statistic    27.121017\n",
      "p_value       0.000001\n",
      "Name: VHSE8_1, dtype: float64\n"
     ]
    }
   ],
   "source": [
    "print(dagostino_results.loc[dagostino_results['p_value'].idxmax()])\n",
    "print(dagostino_results.loc[dagostino_results['p_value'].idxmin()])"
   ]
  },
  {
   "cell_type": "code",
   "execution_count": 57,
   "metadata": {},
   "outputs": [
    {
     "name": "stdout",
     "output_type": "stream",
     "text": [
      "False    48\n",
      "True     18\n",
      "Name: p_value, dtype: int64\n",
      "False    48\n",
      "True     18\n",
      "Name: p_value, dtype: int64\n"
     ]
    }
   ],
   "source": [
    "alpha = 0.05\n",
    "\n",
    "shapiro_rejects = shapiro_results['p_value'] < alpha\n",
    "dagostino_rejects = shapiro_results['p_value'] < alpha\n",
    "\n",
    "print(shapiro_rejects.value_counts())\n",
    "print(dagostino_rejects.value_counts())"
   ]
  }
 ],
 "metadata": {
  "kernelspec": {
   "display_name": "Python 3",
   "language": "python",
   "name": "python3"
  },
  "language_info": {
   "codemirror_mode": {
    "name": "ipython",
    "version": 3
   },
   "file_extension": ".py",
   "mimetype": "text/x-python",
   "name": "python",
   "nbconvert_exporter": "python",
   "pygments_lexer": "ipython3",
   "version": "3.7.3"
  }
 },
 "nbformat": 4,
 "nbformat_minor": 2
}
